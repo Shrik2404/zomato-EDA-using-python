{
 "cells": [
  {
   "cell_type": "code",
   "execution_count": 3,
   "id": "2743638e",
   "metadata": {},
   "outputs": [],
   "source": [
    "import seaborn as sns\n",
    "import matplotlib.pyplot as plt\n",
    "import numpy as np\n",
    "import pandas as pd\n",
    "import warnings\n",
    "warnings.filterwarnings('ignore')"
   ]
  },
  {
   "cell_type": "code",
   "execution_count": 4,
   "id": "03db32fd",
   "metadata": {},
   "outputs": [],
   "source": [
    "df=pd.read_csv(\"zomato_outlet_final.csv\")"
   ]
  },
  {
   "cell_type": "code",
   "execution_count": 8,
   "id": "aff7054a",
   "metadata": {},
   "outputs": [
    {
     "data": {
      "text/html": [
       "<div>\n",
       "<style scoped>\n",
       "    .dataframe tbody tr th:only-of-type {\n",
       "        vertical-align: middle;\n",
       "    }\n",
       "\n",
       "    .dataframe tbody tr th {\n",
       "        vertical-align: top;\n",
       "    }\n",
       "\n",
       "    .dataframe thead th {\n",
       "        text-align: right;\n",
       "    }\n",
       "</style>\n",
       "<table border=\"1\" class=\"dataframe\">\n",
       "  <thead>\n",
       "    <tr style=\"text-align: right;\">\n",
       "      <th></th>\n",
       "      <th>link</th>\n",
       "      <th>rest_name</th>\n",
       "      <th>rest_type</th>\n",
       "      <th>loc</th>\n",
       "      <th>dine_rating</th>\n",
       "      <th>dine_reviews</th>\n",
       "      <th>delivery_rating</th>\n",
       "      <th>delivery_reviews</th>\n",
       "      <th>cuisine</th>\n",
       "      <th>Unnamed: 9</th>\n",
       "      <th>Cost (RS)</th>\n",
       "      <th>cost</th>\n",
       "      <th>liked</th>\n",
       "    </tr>\n",
       "  </thead>\n",
       "  <tbody>\n",
       "    <tr>\n",
       "      <th>0</th>\n",
       "      <td>https://www.zomato.com/pune/mix@36-the-westin-...</td>\n",
       "      <td>Mix@36 - The Westin\\r\\r\\n                     ...</td>\n",
       "      <td>Lounge</td>\n",
       "      <td>The Westin, Mundhwa</td>\n",
       "      <td>4.2</td>\n",
       "      <td>(707 Reviews)</td>\n",
       "      <td>NaN</td>\n",
       "      <td>NaN</td>\n",
       "      <td>North Indian,Continental,Asian,Finger Food,</td>\n",
       "      <td>NaN</td>\n",
       "      <td>4300</td>\n",
       "      <td>Rs. 4300</td>\n",
       "      <td>Cocktails, Chaat, Beer</td>\n",
       "    </tr>\n",
       "    <tr>\n",
       "      <th>1</th>\n",
       "      <td>https://www.zomato.com/pune/kangan-the-westin-...</td>\n",
       "      <td>Kangan - The Westin\\r\\r\\n                     ...</td>\n",
       "      <td>Fine Dining</td>\n",
       "      <td>The Westin, Mundhwa</td>\n",
       "      <td>4.1</td>\n",
       "      <td>(344 Reviews)</td>\n",
       "      <td>NaN</td>\n",
       "      <td>NaN</td>\n",
       "      <td>North Indian,Mughlai,</td>\n",
       "      <td>NaN</td>\n",
       "      <td>3500</td>\n",
       "      <td>Rs. 3500</td>\n",
       "      <td>Biryani, Veg Platter, Dal Makhani, Butter Chic...</td>\n",
       "    </tr>\n",
       "    <tr>\n",
       "      <th>2</th>\n",
       "      <td>https://www.zomato.com/pune/coriander-kitchen-...</td>\n",
       "      <td>Coriander Kitchen - Conrad Pune\\r\\r\\n         ...</td>\n",
       "      <td>Fine Dining</td>\n",
       "      <td>Conrad Pune, Bund Garden Road</td>\n",
       "      <td>4.5</td>\n",
       "      <td>(541 Reviews)</td>\n",
       "      <td>NaN</td>\n",
       "      <td>NaN</td>\n",
       "      <td>Mediterranean,Asian,North Indian,</td>\n",
       "      <td>NaN</td>\n",
       "      <td>3200</td>\n",
       "      <td>Rs. 3200</td>\n",
       "      <td>Pasta, Panipuri, Waffles, Pizza, Salad, Chaat,...</td>\n",
       "    </tr>\n",
       "    <tr>\n",
       "      <th>3</th>\n",
       "      <td>https://www.zomato.com/pune/the-market-the-wes...</td>\n",
       "      <td>The Market - The Westin\\r\\r\\n                 ...</td>\n",
       "      <td>Fine Dining</td>\n",
       "      <td>The Westin, Mundhwa</td>\n",
       "      <td>4.0</td>\n",
       "      <td>(55 Reviews)</td>\n",
       "      <td>NaN</td>\n",
       "      <td>NaN</td>\n",
       "      <td>Asian,European,North Indian,</td>\n",
       "      <td>NaN</td>\n",
       "      <td>3200</td>\n",
       "      <td>Rs. 3200</td>\n",
       "      <td>Vanilla Ice Cream, Chaat, Sushi</td>\n",
       "    </tr>\n",
       "    <tr>\n",
       "      <th>4</th>\n",
       "      <td>https://www.zomato.com/pune/vandaag-vivanta-pu...</td>\n",
       "      <td>Vandaag - Vivanta Pune\\r\\r\\n                  ...</td>\n",
       "      <td>Pub,Casual Dining</td>\n",
       "      <td>Vivanta Pune, Hinjewadi</td>\n",
       "      <td>3.9</td>\n",
       "      <td>(113 Reviews)</td>\n",
       "      <td>NaN</td>\n",
       "      <td>NaN</td>\n",
       "      <td>Finger Food,Continental,</td>\n",
       "      <td>NaN</td>\n",
       "      <td>3100</td>\n",
       "      <td>Rs. 3100</td>\n",
       "      <td>Cocktails, Beer, Peri Peri Chicken, Fish, Veg ...</td>\n",
       "    </tr>\n",
       "  </tbody>\n",
       "</table>\n",
       "</div>"
      ],
      "text/plain": [
       "                                                link  \\\n",
       "0  https://www.zomato.com/pune/mix@36-the-westin-...   \n",
       "1  https://www.zomato.com/pune/kangan-the-westin-...   \n",
       "2  https://www.zomato.com/pune/coriander-kitchen-...   \n",
       "3  https://www.zomato.com/pune/the-market-the-wes...   \n",
       "4  https://www.zomato.com/pune/vandaag-vivanta-pu...   \n",
       "\n",
       "                                           rest_name          rest_type  \\\n",
       "0  Mix@36 - The Westin\\r\\r\\n                     ...             Lounge   \n",
       "1  Kangan - The Westin\\r\\r\\n                     ...        Fine Dining   \n",
       "2  Coriander Kitchen - Conrad Pune\\r\\r\\n         ...        Fine Dining   \n",
       "3  The Market - The Westin\\r\\r\\n                 ...        Fine Dining   \n",
       "4  Vandaag - Vivanta Pune\\r\\r\\n                  ...  Pub,Casual Dining   \n",
       "\n",
       "                             loc  dine_rating   dine_reviews  delivery_rating  \\\n",
       "0            The Westin, Mundhwa          4.2  (707 Reviews)              NaN   \n",
       "1            The Westin, Mundhwa          4.1  (344 Reviews)              NaN   \n",
       "2  Conrad Pune, Bund Garden Road          4.5  (541 Reviews)              NaN   \n",
       "3            The Westin, Mundhwa          4.0   (55 Reviews)              NaN   \n",
       "4        Vivanta Pune, Hinjewadi          3.9  (113 Reviews)              NaN   \n",
       "\n",
       "  delivery_reviews                                      cuisine  Unnamed: 9  \\\n",
       "0              NaN  North Indian,Continental,Asian,Finger Food,         NaN   \n",
       "1              NaN                        North Indian,Mughlai,         NaN   \n",
       "2              NaN            Mediterranean,Asian,North Indian,         NaN   \n",
       "3              NaN                 Asian,European,North Indian,         NaN   \n",
       "4              NaN                     Finger Food,Continental,         NaN   \n",
       "\n",
       "   Cost (RS)      cost                                              liked  \n",
       "0       4300  Rs. 4300                             Cocktails, Chaat, Beer  \n",
       "1       3500  Rs. 3500  Biryani, Veg Platter, Dal Makhani, Butter Chic...  \n",
       "2       3200  Rs. 3200  Pasta, Panipuri, Waffles, Pizza, Salad, Chaat,...  \n",
       "3       3200  Rs. 3200                    Vanilla Ice Cream, Chaat, Sushi  \n",
       "4       3100  Rs. 3100  Cocktails, Beer, Peri Peri Chicken, Fish, Veg ...  "
      ]
     },
     "execution_count": 8,
     "metadata": {},
     "output_type": "execute_result"
    }
   ],
   "source": [
    "df.head()#gives first 5 rows"
   ]
  },
  {
   "cell_type": "code",
   "execution_count": 11,
   "id": "b83b92d5",
   "metadata": {},
   "outputs": [
    {
     "name": "stdout",
     "output_type": "stream",
     "text": [
      "<class 'pandas.core.frame.DataFrame'>\n",
      "RangeIndex: 5433 entries, 0 to 5432\n",
      "Data columns (total 13 columns):\n",
      " #   Column            Non-Null Count  Dtype  \n",
      "---  ------            --------------  -----  \n",
      " 0   link              5433 non-null   object \n",
      " 1   rest_name         5433 non-null   object \n",
      " 2   rest_type         4336 non-null   object \n",
      " 3   loc               5433 non-null   object \n",
      " 4   dine_rating       5433 non-null   float64\n",
      " 5   dine_reviews      4829 non-null   object \n",
      " 6   delivery_rating   2539 non-null   float64\n",
      " 7   delivery_reviews  2539 non-null   object \n",
      " 8   cuisine           5433 non-null   object \n",
      " 9   Unnamed: 9        0 non-null      float64\n",
      " 10  Cost (RS)         5433 non-null   int64  \n",
      " 11  cost              5433 non-null   object \n",
      " 12  liked             2603 non-null   object \n",
      "dtypes: float64(3), int64(1), object(9)\n",
      "memory usage: 551.9+ KB\n"
     ]
    }
   ],
   "source": [
    "df.info()"
   ]
  },
  {
   "cell_type": "code",
   "execution_count": 12,
   "id": "ce9bdc1b",
   "metadata": {},
   "outputs": [
    {
     "data": {
      "text/plain": [
       "(5433, 13)"
      ]
     },
     "execution_count": 12,
     "metadata": {},
     "output_type": "execute_result"
    }
   ],
   "source": [
    "df.shape"
   ]
  },
  {
   "cell_type": "code",
   "execution_count": 13,
   "id": "734800e6",
   "metadata": {},
   "outputs": [
    {
     "data": {
      "text/plain": [
       "Index(['link', 'rest_name', 'rest_type', 'loc', 'dine_rating', 'dine_reviews',\n",
       "       'delivery_rating', 'delivery_reviews', 'cuisine', 'Unnamed: 9',\n",
       "       'Cost (RS)', 'cost', 'liked'],\n",
       "      dtype='object')"
      ]
     },
     "execution_count": 13,
     "metadata": {},
     "output_type": "execute_result"
    }
   ],
   "source": [
    "df.columns"
   ]
  },
  {
   "cell_type": "code",
   "execution_count": 16,
   "id": "cc10e898",
   "metadata": {},
   "outputs": [
    {
     "data": {
      "text/plain": [
       "Index(['rest_type', 'loc', 'dine_rating', 'dine_reviews', 'delivery_rating',\n",
       "       'delivery_reviews', 'cuisine', 'Unnamed: 9', 'Cost (RS)', 'cost',\n",
       "       'liked'],\n",
       "      dtype='object')"
      ]
     },
     "execution_count": 16,
     "metadata": {},
     "output_type": "execute_result"
    }
   ],
   "source": [
    "df=df.iloc[:,2:]\n",
    "df.columns"
   ]
  },
  {
   "cell_type": "code",
   "execution_count": 20,
   "id": "63dda880",
   "metadata": {},
   "outputs": [
    {
     "data": {
      "text/plain": [
       "Index(['rest_name', 'rest_type', 'loc', 'dine_rating', 'dine_reviews',\n",
       "       'delivery_rating', 'delivery_reviews', 'cuisine', 'Unnamed: 9',\n",
       "       'Cost (RS)', 'cost', 'liked'],\n",
       "      dtype='object')"
      ]
     },
     "execution_count": 20,
     "metadata": {},
     "output_type": "execute_result"
    }
   ],
   "source": [
    "df=pd.read_csv(\"zomato_outlet_final.csv\")\n",
    "df=df.iloc[:,1:]\n",
    "df.columns"
   ]
  },
  {
   "cell_type": "code",
   "execution_count": 27,
   "id": "6becf0b9",
   "metadata": {},
   "outputs": [
    {
     "data": {
      "text/plain": [
       "Index(['rest_name', 'rest_type', 'loc', 'dine_rating', 'dine_reviews',\n",
       "       'delivery_rating', 'delivery_reviews', 'cuisine', 'Cost (RS)', 'cost',\n",
       "       'liked'],\n",
       "      dtype='object')"
      ]
     },
     "execution_count": 27,
     "metadata": {},
     "output_type": "execute_result"
    }
   ],
   "source": [
    "df.columns"
   ]
  },
  {
   "cell_type": "code",
   "execution_count": 28,
   "id": "f0903ee7",
   "metadata": {},
   "outputs": [
    {
     "data": {
      "text/plain": [
       "0                  Lounge\n",
       "1             Fine Dining\n",
       "2             Fine Dining\n",
       "3             Fine Dining\n",
       "4       Pub,Casual Dining\n",
       "              ...        \n",
       "5428        Casual Dining\n",
       "5429        Casual Dining\n",
       "5430        Casual Dining\n",
       "5431          Quick Bites\n",
       "5432        Casual Dining\n",
       "Name: rest_type, Length: 5433, dtype: object"
      ]
     },
     "execution_count": 28,
     "metadata": {},
     "output_type": "execute_result"
    }
   ],
   "source": [
    "df['rest_type']"
   ]
  },
  {
   "cell_type": "code",
   "execution_count": 39,
   "id": "b75b3a48",
   "metadata": {},
   "outputs": [],
   "source": [
    "#how many resto are there ?\n",
    "rest_type_values=df['rest_type'].value_counts()[:10]"
   ]
  },
  {
   "cell_type": "code",
   "execution_count": 40,
   "id": "6ae6658d",
   "metadata": {},
   "outputs": [
    {
     "data": {
      "text/plain": [
       "<AxesSubplot:xlabel='rest_type'>"
      ]
     },
     "execution_count": 40,
     "metadata": {},
     "output_type": "execute_result"
    },
    {
     "data": {
      "image/png": "[encoded data removed]",
      "text/plain": [
       "<Figure size 432x288 with 1 Axes>"
      ]
     },
     "metadata": {
      "needs_background": "light"
     },
     "output_type": "display_data"
    }
   ],
   "source": [
    "sns.barplot(rest_type_values,rest_type_values.index)"
   ]
  },
  {
   "cell_type": "code",
   "execution_count": 46,
   "id": "fcf49fc4",
   "metadata": {},
   "outputs": [
    {
     "data": {
      "text/plain": [
       "<AxesSubplot:xlabel='cuisine'>"
      ]
     },
     "execution_count": 46,
     "metadata": {},
     "output_type": "execute_result"
    },
    {
     "data": {
      "image/png": "[encoded data removed]",
      "text/plain": [
       "<Figure size 432x288 with 1 Axes>"
      ]
     },
     "metadata": {
      "needs_background": "light"
     },
     "output_type": "display_data"
    }
   ],
   "source": [
    "cuisine_values=df['cuisine'].value_counts()[:10]\n",
    "sns.barplot(cuisine_values,cuisine_values.index)"
   ]
  },
  {
   "cell_type": "code",
   "execution_count": 6,
   "id": "55d95154",
   "metadata": {},
   "outputs": [
    {
     "data": {
      "text/plain": [
       "<AxesSubplot:xlabel='loc'>"
      ]
     },
     "execution_count": 6,
     "metadata": {},
     "output_type": "execute_result"
    },
    {
     "data": {
      "image/png": "[encoded data removed]",
      "text/plain": [
       "<Figure size 432x288 with 1 Axes>"
      ]
     },
     "metadata": {
      "needs_background": "light"
     },
     "output_type": "display_data"
    }
   ],
   "source": [
    "loc_values=df['loc'].value_counts()[:10]\n",
    "sns.barplot(loc_values,loc_values.index)"
   ]
  },
  {
   "cell_type": "code",
   "execution_count": 52,
   "id": "da0ed573",
   "metadata": {},
   "outputs": [
    {
     "data": {
      "text/plain": [
       "(array([ 604.,    0.,    0.,    0.,   63.,  405., 1006., 1893., 1291.,\n",
       "         171.]),\n",
       " array([0.  , 0.49, 0.98, 1.47, 1.96, 2.45, 2.94, 3.43, 3.92, 4.41, 4.9 ]),\n",
       " <BarContainer object of 10 artists>)"
      ]
     },
     "execution_count": 52,
     "metadata": {},
     "output_type": "execute_result"
    },
    {
     "data": {
      "image/png": "[encoded data removed]",
      "text/plain": [
       "<Figure size 432x288 with 1 Axes>"
      ]
     },
     "metadata": {
      "needs_background": "light"
     },
     "output_type": "display_data"
    }
   ],
   "source": [
    "df['dine_rating']\n",
    "plt.hist(df['dine_rating'])"
   ]
  },
  {
   "cell_type": "code",
   "execution_count": 7,
   "id": "a14bfd39",
   "metadata": {},
   "outputs": [
    {
     "data": {
      "text/plain": [
       "Kothrud            273\n",
       "Viman Nagar        241\n",
       "Wakad              235\n",
       "Baner              234\n",
       "Hinjawadi          225\n",
       "Hadapsar           196\n",
       "Kharadi            194\n",
       "Sinhgad Road       147\n",
       "Pimple Saudagar    141\n",
       "Koregaon Park      130\n",
       "Name: loc, dtype: int64"
      ]
     },
     "execution_count": 7,
     "metadata": {},
     "output_type": "execute_result"
    }
   ],
   "source": [
    "total_locations=df['loc'].value_counts()[:10]\n",
    "total_locations"
   ]
  },
  {
   "cell_type": "code",
   "execution_count": 10,
   "id": "1c7e8cca",
   "metadata": {},
   "outputs": [
    {
     "name": "stdout",
     "output_type": "stream",
     "text": [
      "[5.238917674150835, 4.624832085971983, 4.509691038188447, 4.490500863557859, 4.317789291882556, 3.7612742275954707, 3.722893878334293, 2.8209556706966032, 2.7058146229130684, 2.494722701976588]\n"
     ]
    }
   ],
   "source": [
    "def divide_by(x):\n",
    "    a=[]\n",
    "    for i in x:\n",
    "        a.append((i/5211)*100)\n",
    "    return a\n",
    "percentage_distribution=divide_by(total_locations)\n",
    "print(percentage_distribution)"
   ]
  },
  {
   "cell_type": "code",
   "execution_count": 19,
   "id": "229833a8",
   "metadata": {},
   "outputs": [
    {
     "data": {
      "text/plain": [
       "(-1.1063908642710871,\n",
       " 1.1003043268700519,\n",
       " -1.1031880593616856,\n",
       " 1.103741765657687)"
      ]
     },
     "execution_count": 19,
     "metadata": {},
     "output_type": "execute_result"
    },
    {
     "data": {
      "image/png": "[encoded data removed]",
      "text/plain": [
       "<Figure size 432x288 with 1 Axes>"
      ]
     },
     "metadata": {},
     "output_type": "display_data"
    }
   ],
   "source": [
    "total_locations=df['loc'].value_counts()[:10]\n",
    "total_locations\n",
    "places=total_locations.index                                      \n",
    "labels=places\n",
    "sizes=percentage_distribution\n",
    "fig1,ax1=plt.subplots()\n",
    "ax1.pie(sizes,labels=labels,autopct='%1.1f%%',shadow=True)\n",
    "ax1.axis('equal')"
   ]
  },
  {
   "cell_type": "code",
   "execution_count": 15,
   "id": "f472b566",
   "metadata": {},
   "outputs": [
    {
     "data": {
      "text/plain": [
       "0       North Indian,Continental,Asian,Finger Food,\n",
       "1                             North Indian,Mughlai,\n",
       "2                 Mediterranean,Asian,North Indian,\n",
       "3                      Asian,European,North Indian,\n",
       "4                          Finger Food,Continental,\n",
       "                           ...                     \n",
       "5428             South Indian,Chinese,North Indian,\n",
       "5429                               Mughlai,Iranian,\n",
       "5430                Chinese,Fast Food,North Indian,\n",
       "5431       Beverages,Chinese,Street Food,Fast Food,\n",
       "5432                                  Thai,Chinese,\n",
       "Name: cuisine, Length: 5433, dtype: object"
      ]
     },
     "execution_count": 15,
     "metadata": {},
     "output_type": "execute_result"
    }
   ],
   "source": [
    "df['cuisine']"
   ]
  },
  {
   "cell_type": "code",
   "execution_count": 23,
   "id": "0903e2dc",
   "metadata": {},
   "outputs": [
    {
     "name": "stdout",
     "output_type": "stream",
     "text": [
      "['North Indian', 'Continental', 'Asian', 'Finger Food', '', 'Mughlai', 'Mediterranean', 'European', 'Salad', 'Malaysian', 'Vietnamese', 'Thai', 'Chinese', 'Japanese', 'Biryani', 'Kebab', 'Italian', 'Bar Food', 'Seafood', 'Fast Food', 'Healthy Food', 'Mexican', 'Desserts', 'American', 'Greek', 'Maharashtrian', 'Beverages', 'South American', 'Steak', 'Brazilian', 'Malwani', 'South Indian', 'Chettinad', 'Kerala', 'Mangalorean', 'Pizza', 'Iranian', 'Goan', 'Charcoal Chicken', 'Cafe', 'Modern Indian', 'Korean', 'Sushi', 'Cantonese', 'Momos', 'Bakery', 'Tea', 'BBQ', 'Mongolian', 'Tex-Mex', 'Lebanese', 'Street Food', 'Cuisine Varies', 'Sandwich', 'Middle Eastern', 'African', 'Ethiopian', 'Burger', 'Hyderabadi', 'Parsi', 'German', 'Konkan', 'Rolls', 'Singaporean', 'Indonesian', 'Rajasthani', 'Lucknowi', 'Burmese', 'Bengali', 'Ice Cream', 'Kashmiri', 'Arabian', 'Gujarati', 'French', 'Tibetan', 'Coffee', 'Mithai', 'Bihari', 'Wraps', 'Odia', 'Juices', 'Raw Meats', 'Turkish', 'Frozen Yogurt', 'Awadhi', 'Afghan', 'Paan', 'Assamese', 'Andhra', 'Panini', 'Mishti', 'Naga']\n",
      "92\n"
     ]
    }
   ],
   "source": [
    "#to find the total number of cuisine and unique cuisine\n",
    "cuisine=[]\n",
    "for i in df['cuisine']:\n",
    "    for j in i.split(\",\"):\n",
    "        if j not in cuisine:\n",
    "            cuisine.append(j)\n",
    "print(cuisine)\n",
    "print(len(cuisine))"
   ]
  },
  {
   "cell_type": "code",
   "execution_count": 32,
   "id": "ed1a6b57",
   "metadata": {},
   "outputs": [
    {
     "data": {
      "text/plain": [
       "<bound method NDFrame._add_numeric_operations.<locals>.sum of 0       False\n",
       "1       False\n",
       "2       False\n",
       "3       False\n",
       "4       False\n",
       "        ...  \n",
       "5428    False\n",
       "5429    False\n",
       "5430    False\n",
       "5431    False\n",
       "5432    False\n",
       "Length: 5211, dtype: bool>"
      ]
     },
     "execution_count": 32,
     "metadata": {},
     "output_type": "execute_result"
    }
   ],
   "source": [
    "df.duplicated().sum()#removing duplicated values\n",
    "df=df.drop_duplicates()\n",
    "df.duplicated().sum"
   ]
  },
  {
   "cell_type": "code",
   "execution_count": 30,
   "id": "d1aa74a2",
   "metadata": {},
   "outputs": [
    {
     "name": "stdout",
     "output_type": "stream",
     "text": [
      "598\n"
     ]
    }
   ],
   "source": [
    "a=[]\n",
    "b=[]\n",
    "for i in df['cuisine']:\n",
    "    a=i.split(',')\n",
    "    b.append(a)\n",
    "count=0\n",
    "for i in b:\n",
    "    for j in i:\n",
    "        if j=='Biryani':\n",
    "            count=count+1\n",
    "print(count)"
   ]
  },
  {
   "cell_type": "code",
   "execution_count": 34,
   "id": "8814df13",
   "metadata": {},
   "outputs": [
    {
     "data": {
      "text/plain": [
       "2801"
      ]
     },
     "execution_count": 34,
     "metadata": {},
     "output_type": "execute_result"
    }
   ],
   "source": [
    "df['delivery_rating'].isnull().sum()\n"
   ]
  },
  {
   "cell_type": "code",
   "execution_count": 35,
   "id": "15f1dd5f",
   "metadata": {},
   "outputs": [
    {
     "data": {
      "text/plain": [
       "0       NaN\n",
       "1       NaN\n",
       "2       NaN\n",
       "3       NaN\n",
       "4       NaN\n",
       "       ... \n",
       "5428    3.5\n",
       "5429    NaN\n",
       "5430    NaN\n",
       "5431    3.1\n",
       "5432    3.8\n",
       "Name: delivery_rating, Length: 5211, dtype: float64"
      ]
     },
     "execution_count": 35,
     "metadata": {},
     "output_type": "execute_result"
    }
   ],
   "source": [
    "df['delivery_rating']"
   ]
  },
  {
   "cell_type": "code",
   "execution_count": 36,
   "id": "d65ac55a",
   "metadata": {},
   "outputs": [
    {
     "data": {
      "text/plain": [
       "(array([  2.,   0.,  19.,  74., 146., 377., 939., 641., 190.,  22.]),\n",
       " array([2.  , 2.28, 2.56, 2.84, 3.12, 3.4 , 3.68, 3.96, 4.24, 4.52, 4.8 ]),\n",
       " <BarContainer object of 10 artists>)"
      ]
     },
     "execution_count": 36,
     "metadata": {},
     "output_type": "execute_result"
    },
    {
     "data": {
      "image/png": "[encoded data removed]",
      "text/plain": [
       "<Figure size 432x288 with 1 Axes>"
      ]
     },
     "metadata": {
      "needs_background": "light"
     },
     "output_type": "display_data"
    }
   ],
   "source": [
    "plt.hist(df['delivery_rating'])"
   ]
  },
  {
   "cell_type": "code",
   "execution_count": 5,
   "id": "6a55b516",
   "metadata": {
    "scrolled": true
   },
   "outputs": [
    {
     "data": {
      "text/plain": [
       "(array([ 604.,    0.,    0.,    0.,   63.,  405., 1006., 1893., 1291.,\n",
       "         171.]),\n",
       " array([0.  , 0.49, 0.98, 1.47, 1.96, 2.45, 2.94, 3.43, 3.92, 4.41, 4.9 ]),\n",
       " <BarContainer object of 10 artists>)"
      ]
     },
     "execution_count": 5,
     "metadata": {},
     "output_type": "execute_result"
    },
    {
     "data": {
      "image/png": "[encoded data removed]",
      "text/plain": [
       "<Figure size 432x288 with 1 Axes>"
      ]
     },
     "metadata": {
      "needs_background": "light"
     },
     "output_type": "display_data"
    }
   ],
   "source": [
    "plt.hist(df['dine_rating'])"
   ]
  },
  {
   "cell_type": "code",
   "execution_count": 6,
   "id": "4c37e483",
   "metadata": {
    "scrolled": true
   },
   "outputs": [
    {
     "data": {
      "text/plain": [
       "<AxesSubplot:xlabel='dine_rating'>"
      ]
     },
     "execution_count": 6,
     "metadata": {},
     "output_type": "execute_result"
    },
    {
     "data": {
      "image/png": "[encoded data removed]",
      "text/plain": [
       "<Figure size 432x288 with 1 Axes>"
      ]
     },
     "metadata": {
      "needs_background": "light"
     },
     "output_type": "display_data"
    }
   ],
   "source": [
    "sns.violinplot(df['dine_rating'])"
   ]
  },
  {
   "cell_type": "code",
   "execution_count": 7,
   "id": "39ef71f3",
   "metadata": {},
   "outputs": [
    {
     "data": {
      "text/plain": [
       "<AxesSubplot:xlabel='dine_rating'>"
      ]
     },
     "execution_count": 7,
     "metadata": {},
     "output_type": "execute_result"
    },
    {
     "data": {
      "image/png": "[encoded data removed]",
      "text/plain": [
       "<Figure size 432x288 with 1 Axes>"
      ]
     },
     "metadata": {
      "needs_background": "light"
     },
     "output_type": "display_data"
    }
   ],
   "source": [
    "sns.boxplot(df['dine_rating'])"
   ]
  },
  {
   "cell_type": "code",
   "execution_count": 29,
   "id": "38cbb33d",
   "metadata": {},
   "outputs": [
    {
     "data": {
      "text/plain": [
       "0       4300\n",
       "1       3500\n",
       "2       3200\n",
       "3       3200\n",
       "4       3100\n",
       "        ... \n",
       "5428     550\n",
       "5429     800\n",
       "5430     500\n",
       "5431     250\n",
       "5432     500\n",
       "Name: Cost (RS), Length: 5433, dtype: int64"
      ]
     },
     "execution_count": 29,
     "metadata": {},
     "output_type": "execute_result"
    }
   ],
   "source": [
    "df[\"Cost (RS)\"]"
   ]
  },
  {
   "cell_type": "code",
   "execution_count": 30,
   "id": "b1f270de",
   "metadata": {},
   "outputs": [
    {
     "data": {
      "text/plain": [
       "(array([2.884e+03, 1.466e+03, 5.900e+02, 3.080e+02, 1.240e+02, 3.400e+01,\n",
       "        2.000e+01, 5.000e+00, 1.000e+00, 1.000e+00]),\n",
       " array([  50.,  475.,  900., 1325., 1750., 2175., 2600., 3025., 3450.,\n",
       "        3875., 4300.]),\n",
       " <BarContainer object of 10 artists>)"
      ]
     },
     "execution_count": 30,
     "metadata": {},
     "output_type": "execute_result"
    },
    {
     "data": {
      "image/png": "[encoded data removed]",
      "text/plain": [
       "<Figure size 432x288 with 1 Axes>"
      ]
     },
     "metadata": {
      "needs_background": "light"
     },
     "output_type": "display_data"
    }
   ],
   "source": [
    "plt.hist(df['Cost (RS)'])"
   ]
  },
  {
   "cell_type": "code",
   "execution_count": 37,
   "id": "30fa8815",
   "metadata": {},
   "outputs": [
    {
     "data": {
      "text/plain": [
       "<AxesSubplot:xlabel='Cost (RS)'>"
      ]
     },
     "execution_count": 37,
     "metadata": {},
     "output_type": "execute_result"
    },
    {
     "data": {
      "image/png": "[encoded data removed]",
      "text/plain": [
       "<Figure size 432x288 with 1 Axes>"
      ]
     },
     "metadata": {
      "needs_background": "light"
     },
     "output_type": "display_data"
    }
   ],
   "source": [
    "sns.boxplot(df['Cost (RS)'])"
   ]
  },
  {
   "cell_type": "code",
   "execution_count": 32,
   "id": "c3a1c3de",
   "metadata": {},
   "outputs": [
    {
     "data": {
      "text/plain": [
       "<seaborn.axisgrid.FacetGrid at 0x205820e9460>"
      ]
     },
     "execution_count": 32,
     "metadata": {},
     "output_type": "execute_result"
    },
    {
     "data": {
      "image/png": "[encoded data removed]",
      "text/plain": [
       "<Figure size 368x360 with 1 Axes>"
      ]
     },
     "metadata": {
      "needs_background": "light"
     },
     "output_type": "display_data"
    }
   ],
   "source": [
    "sns.FacetGrid(df,size=5).map(sns.distplot, \"Cost (RS)\").add_legend()"
   ]
  },
  {
   "cell_type": "code",
   "execution_count": 6,
   "id": "9cc11141",
   "metadata": {},
   "outputs": [
    {
     "data": {
      "text/html": [
       "<div>\n",
       "<style scoped>\n",
       "    .dataframe tbody tr th:only-of-type {\n",
       "        vertical-align: middle;\n",
       "    }\n",
       "\n",
       "    .dataframe tbody tr th {\n",
       "        vertical-align: top;\n",
       "    }\n",
       "\n",
       "    .dataframe thead th {\n",
       "        text-align: right;\n",
       "    }\n",
       "</style>\n",
       "<table border=\"1\" class=\"dataframe\">\n",
       "  <thead>\n",
       "    <tr style=\"text-align: right;\">\n",
       "      <th></th>\n",
       "      <th>link</th>\n",
       "      <th>rest_name</th>\n",
       "      <th>rest_type</th>\n",
       "      <th>loc</th>\n",
       "      <th>dine_rating</th>\n",
       "      <th>dine_reviews</th>\n",
       "      <th>delivery_rating</th>\n",
       "      <th>delivery_reviews</th>\n",
       "      <th>cuisine</th>\n",
       "      <th>Unnamed: 9</th>\n",
       "      <th>Cost (RS)</th>\n",
       "      <th>cost</th>\n",
       "      <th>liked</th>\n",
       "    </tr>\n",
       "  </thead>\n",
       "  <tbody>\n",
       "    <tr>\n",
       "      <th>161</th>\n",
       "      <td>https://www.zomato.com/pune/the-3-musketeers-s...</td>\n",
       "      <td>The 3 Musketeers Sky Gallary\\r\\r\\n            ...</td>\n",
       "      <td>Casual Dining,Bar</td>\n",
       "      <td>Kothrud</td>\n",
       "      <td>0.0</td>\n",
       "      <td>NaN</td>\n",
       "      <td>NaN</td>\n",
       "      <td>NaN</td>\n",
       "      <td>Beverages,Chinese,Continental,</td>\n",
       "      <td>NaN</td>\n",
       "      <td>1700</td>\n",
       "      <td>Rs. 1700</td>\n",
       "      <td>NaN</td>\n",
       "    </tr>\n",
       "    <tr>\n",
       "      <th>183</th>\n",
       "      <td>https://www.zomato.com/pune/bacharika-rooftop-...</td>\n",
       "      <td>Bacharika- Rooftop Bar And Kitchen\\r\\r\\n      ...</td>\n",
       "      <td>Casual Dining,Bar</td>\n",
       "      <td>Kothrud</td>\n",
       "      <td>4.1</td>\n",
       "      <td>(238 Reviews)</td>\n",
       "      <td>NaN</td>\n",
       "      <td>NaN</td>\n",
       "      <td>European,Middle Eastern,Continental,North Indi...</td>\n",
       "      <td>NaN</td>\n",
       "      <td>1600</td>\n",
       "      <td>Rs. 1600</td>\n",
       "      <td>NaN</td>\n",
       "    </tr>\n",
       "    <tr>\n",
       "      <th>191</th>\n",
       "      <td>https://www.zomato.com/pune/alc-bar-bites-kothrud</td>\n",
       "      <td>ALC Bar &amp; Bites\\r\\r\\n                         ...</td>\n",
       "      <td>Bar,Casual Dining</td>\n",
       "      <td>Kothrud</td>\n",
       "      <td>3.7</td>\n",
       "      <td>(38 Reviews)</td>\n",
       "      <td>NaN</td>\n",
       "      <td>NaN</td>\n",
       "      <td>North Indian,Chinese,</td>\n",
       "      <td>NaN</td>\n",
       "      <td>1600</td>\n",
       "      <td>Rs. 1600</td>\n",
       "      <td>NaN</td>\n",
       "    </tr>\n",
       "    <tr>\n",
       "      <th>214</th>\n",
       "      <td>https://www.zomato.com/pune/barometer-kothrud</td>\n",
       "      <td>Barometer\\r\\r\\n                               ...</td>\n",
       "      <td>Casual Dining</td>\n",
       "      <td>Kothrud</td>\n",
       "      <td>4.6</td>\n",
       "      <td>-1,591</td>\n",
       "      <td>4.3</td>\n",
       "      <td>-1,797</td>\n",
       "      <td>Finger Food,North Indian,Asian,Continental,</td>\n",
       "      <td>NaN</td>\n",
       "      <td>1500</td>\n",
       "      <td>Rs. 1500</td>\n",
       "      <td>Cocktails, Pizza, Pasta, Filtered Coffee, Nach...</td>\n",
       "    </tr>\n",
       "    <tr>\n",
       "      <th>236</th>\n",
       "      <td>https://www.zomato.com/pune/german-bakery-wund...</td>\n",
       "      <td>German Bakery Wunderbar\\r\\r\\n                 ...</td>\n",
       "      <td>Casual Dining</td>\n",
       "      <td>Kothrud</td>\n",
       "      <td>3.0</td>\n",
       "      <td>(91 Reviews)</td>\n",
       "      <td>NaN</td>\n",
       "      <td>NaN</td>\n",
       "      <td>Beverages,Desserts,Cafe,Italian,Continental,Ge...</td>\n",
       "      <td>NaN</td>\n",
       "      <td>1000</td>\n",
       "      <td>Rs. 1000</td>\n",
       "      <td>NaN</td>\n",
       "    </tr>\n",
       "    <tr>\n",
       "      <th>...</th>\n",
       "      <td>...</td>\n",
       "      <td>...</td>\n",
       "      <td>...</td>\n",
       "      <td>...</td>\n",
       "      <td>...</td>\n",
       "      <td>...</td>\n",
       "      <td>...</td>\n",
       "      <td>...</td>\n",
       "      <td>...</td>\n",
       "      <td>...</td>\n",
       "      <td>...</td>\n",
       "      <td>...</td>\n",
       "      <td>...</td>\n",
       "    </tr>\n",
       "    <tr>\n",
       "      <th>5338</th>\n",
       "      <td>https://www.zomato.com/pune/sudit-all-day-kitc...</td>\n",
       "      <td>Sudit All Day Kitchen\\r\\n                     ...</td>\n",
       "      <td>Casual Dining</td>\n",
       "      <td>Kothrud</td>\n",
       "      <td>3.7</td>\n",
       "      <td>-59</td>\n",
       "      <td>3.9</td>\n",
       "      <td>-61</td>\n",
       "      <td>North Indian,Maharashtrian,Chinese,</td>\n",
       "      <td>NaN</td>\n",
       "      <td>1000</td>\n",
       "      <td>Rs. 1000</td>\n",
       "      <td>NaN</td>\n",
       "    </tr>\n",
       "    <tr>\n",
       "      <th>5339</th>\n",
       "      <td>https://www.zomato.com/pune/taco-alfresco-kothrud</td>\n",
       "      <td>Taco Alfresco\\r\\n                             ...</td>\n",
       "      <td>Café</td>\n",
       "      <td>Kothrud</td>\n",
       "      <td>4.0</td>\n",
       "      <td>-113</td>\n",
       "      <td>4.1</td>\n",
       "      <td>-570</td>\n",
       "      <td>Mexican,Cafe,</td>\n",
       "      <td>NaN</td>\n",
       "      <td>650</td>\n",
       "      <td>Rs. 650</td>\n",
       "      <td>Nachos, Burrito Bowl, Coffee, Hot Chocolate, K...</td>\n",
       "    </tr>\n",
       "    <tr>\n",
       "      <th>5343</th>\n",
       "      <td>https://www.zomato.com/pune/parth-veg-non-veg-...</td>\n",
       "      <td>Parth Veg &amp; Non Veg\\r\\n                       ...</td>\n",
       "      <td>Casual Dining</td>\n",
       "      <td>Kothrud</td>\n",
       "      <td>3.6</td>\n",
       "      <td>-32</td>\n",
       "      <td>4.2</td>\n",
       "      <td>-257</td>\n",
       "      <td>Maharashtrian,Fast Food,Seafood,North Indian,</td>\n",
       "      <td>NaN</td>\n",
       "      <td>500</td>\n",
       "      <td>Rs. 500</td>\n",
       "      <td>NaN</td>\n",
       "    </tr>\n",
       "    <tr>\n",
       "      <th>5374</th>\n",
       "      <td>https://www.zomato.com/pune/yahoo-momos-kothrud</td>\n",
       "      <td>Yahoo!!! Momos\\r\\n                            ...</td>\n",
       "      <td>Quick Bites</td>\n",
       "      <td>Kothrud</td>\n",
       "      <td>2.9</td>\n",
       "      <td>-356</td>\n",
       "      <td>3.8</td>\n",
       "      <td>-4,726</td>\n",
       "      <td>Ice Cream,Momos,</td>\n",
       "      <td>NaN</td>\n",
       "      <td>300</td>\n",
       "      <td>Rs. 300</td>\n",
       "      <td>Chicken 65, Iced Tea, Veg Momos, Tandoori Momo...</td>\n",
       "    </tr>\n",
       "    <tr>\n",
       "      <th>5400</th>\n",
       "      <td>https://www.zomato.com/pune/taj-24-7-1-kothrud</td>\n",
       "      <td>Taj 24/7\\r\\n</td>\n",
       "      <td>NaN</td>\n",
       "      <td>Kothrud</td>\n",
       "      <td>0.0</td>\n",
       "      <td>NaN</td>\n",
       "      <td>NaN</td>\n",
       "      <td>NaN</td>\n",
       "      <td>Beverages,South Indian,Street Food,</td>\n",
       "      <td>NaN</td>\n",
       "      <td>200</td>\n",
       "      <td>Rs. 200</td>\n",
       "      <td>NaN</td>\n",
       "    </tr>\n",
       "  </tbody>\n",
       "</table>\n",
       "<p>273 rows × 13 columns</p>\n",
       "</div>"
      ],
      "text/plain": [
       "                                                   link  \\\n",
       "161   https://www.zomato.com/pune/the-3-musketeers-s...   \n",
       "183   https://www.zomato.com/pune/bacharika-rooftop-...   \n",
       "191   https://www.zomato.com/pune/alc-bar-bites-kothrud   \n",
       "214       https://www.zomato.com/pune/barometer-kothrud   \n",
       "236   https://www.zomato.com/pune/german-bakery-wund...   \n",
       "...                                                 ...   \n",
       "5338  https://www.zomato.com/pune/sudit-all-day-kitc...   \n",
       "5339  https://www.zomato.com/pune/taco-alfresco-kothrud   \n",
       "5343  https://www.zomato.com/pune/parth-veg-non-veg-...   \n",
       "5374    https://www.zomato.com/pune/yahoo-momos-kothrud   \n",
       "5400     https://www.zomato.com/pune/taj-24-7-1-kothrud   \n",
       "\n",
       "                                              rest_name          rest_type  \\\n",
       "161   The 3 Musketeers Sky Gallary\\r\\r\\n            ...  Casual Dining,Bar   \n",
       "183   Bacharika- Rooftop Bar And Kitchen\\r\\r\\n      ...  Casual Dining,Bar   \n",
       "191   ALC Bar & Bites\\r\\r\\n                         ...  Bar,Casual Dining   \n",
       "214   Barometer\\r\\r\\n                               ...      Casual Dining   \n",
       "236   German Bakery Wunderbar\\r\\r\\n                 ...      Casual Dining   \n",
       "...                                                 ...                ...   \n",
       "5338  Sudit All Day Kitchen\\r\\n                     ...      Casual Dining   \n",
       "5339  Taco Alfresco\\r\\n                             ...               Café   \n",
       "5343  Parth Veg & Non Veg\\r\\n                       ...      Casual Dining   \n",
       "5374  Yahoo!!! Momos\\r\\n                            ...        Quick Bites   \n",
       "5400   Taj 24/7\\r\\n                                                    NaN   \n",
       "\n",
       "          loc  dine_rating   dine_reviews  delivery_rating delivery_reviews  \\\n",
       "161   Kothrud          0.0            NaN              NaN              NaN   \n",
       "183   Kothrud          4.1  (238 Reviews)              NaN              NaN   \n",
       "191   Kothrud          3.7   (38 Reviews)              NaN              NaN   \n",
       "214   Kothrud          4.6         -1,591              4.3           -1,797   \n",
       "236   Kothrud          3.0   (91 Reviews)              NaN              NaN   \n",
       "...       ...          ...            ...              ...              ...   \n",
       "5338  Kothrud          3.7            -59              3.9              -61   \n",
       "5339  Kothrud          4.0           -113              4.1             -570   \n",
       "5343  Kothrud          3.6            -32              4.2             -257   \n",
       "5374  Kothrud          2.9           -356              3.8           -4,726   \n",
       "5400  Kothrud          0.0            NaN              NaN              NaN   \n",
       "\n",
       "                                                cuisine  Unnamed: 9  \\\n",
       "161                      Beverages,Chinese,Continental,         NaN   \n",
       "183   European,Middle Eastern,Continental,North Indi...         NaN   \n",
       "191                               North Indian,Chinese,         NaN   \n",
       "214         Finger Food,North Indian,Asian,Continental,         NaN   \n",
       "236   Beverages,Desserts,Cafe,Italian,Continental,Ge...         NaN   \n",
       "...                                                 ...         ...   \n",
       "5338                North Indian,Maharashtrian,Chinese,         NaN   \n",
       "5339                                      Mexican,Cafe,         NaN   \n",
       "5343      Maharashtrian,Fast Food,Seafood,North Indian,         NaN   \n",
       "5374                                   Ice Cream,Momos,         NaN   \n",
       "5400                Beverages,South Indian,Street Food,         NaN   \n",
       "\n",
       "      Cost (RS)      cost                                              liked  \n",
       "161        1700  Rs. 1700                                                NaN  \n",
       "183        1600  Rs. 1600                                                NaN  \n",
       "191        1600  Rs. 1600                                                NaN  \n",
       "214        1500  Rs. 1500  Cocktails, Pizza, Pasta, Filtered Coffee, Nach...  \n",
       "236        1000  Rs. 1000                                                NaN  \n",
       "...         ...       ...                                                ...  \n",
       "5338       1000  Rs. 1000                                                NaN  \n",
       "5339        650   Rs. 650  Nachos, Burrito Bowl, Coffee, Hot Chocolate, K...  \n",
       "5343        500   Rs. 500                                                NaN  \n",
       "5374        300   Rs. 300  Chicken 65, Iced Tea, Veg Momos, Tandoori Momo...  \n",
       "5400        200   Rs. 200                                                NaN  \n",
       "\n",
       "[273 rows x 13 columns]"
      ]
     },
     "execution_count": 6,
     "metadata": {},
     "output_type": "execute_result"
    }
   ],
   "source": [
    "df2=df.groupby([\"loc\"])\n",
    "kothrud=df2.get_group(\"Kothrud\")\n",
    "kothrud"
   ]
  },
  {
   "cell_type": "code",
   "execution_count": 41,
   "id": "607da1ed",
   "metadata": {},
   "outputs": [
    {
     "data": {
      "text/plain": [
       "(array([53., 90., 51., 27.,  6., 15., 14.,  3., 11.,  3.]),\n",
       " array([ 100.,  260.,  420.,  580.,  740.,  900., 1060., 1220., 1380.,\n",
       "        1540., 1700.]),\n",
       " <BarContainer object of 10 artists>)"
      ]
     },
     "execution_count": 41,
     "metadata": {},
     "output_type": "execute_result"
    },
    {
     "data": {
      "image/png": "[encoded data removed]",
      "text/plain": [
       "<Figure size 432x288 with 1 Axes>"
      ]
     },
     "metadata": {
      "needs_background": "light"
     },
     "output_type": "display_data"
    }
   ],
   "source": [
    "plt.hist(kothrud['Cost (RS)'])"
   ]
  },
  {
   "cell_type": "code",
   "execution_count": 7,
   "id": "6a3e2f74",
   "metadata": {},
   "outputs": [
    {
     "data": {
      "text/plain": [
       "<AxesSubplot:xlabel='Cost (RS)'>"
      ]
     },
     "execution_count": 7,
     "metadata": {},
     "output_type": "execute_result"
    },
    {
     "data": {
      "image/png": "[encoded data removed]",
      "text/plain": [
       "<Figure size 432x288 with 1 Axes>"
      ]
     },
     "metadata": {
      "needs_background": "light"
     },
     "output_type": "display_data"
    }
   ],
   "source": [
    "sns.barplot(kothrud['Cost (RS)'])"
   ]
  },
  {
   "cell_type": "code",
   "execution_count": 47,
   "id": "ee99a28f",
   "metadata": {},
   "outputs": [
    {
     "data": {
      "text/plain": [
       "Baner                                   62\n",
       "Viman Nagar                             51\n",
       "Koregaon Park                           42\n",
       "Kothrud                                 38\n",
       "Kalyani Nagar                           28\n",
       "                                        ..\n",
       "CityONE Mall                             1\n",
       "The Ramee Grand Hotel, Shivaji Nagar     1\n",
       "Grand Exotica Business Hotel             1\n",
       "Bund Garden Road                         1\n",
       "Parichay Hotel, FC Road                  1\n",
       "Name: loc, Length: 115, dtype: int64"
      ]
     },
     "execution_count": 47,
     "metadata": {},
     "output_type": "execute_result"
    }
   ],
   "source": [
    "ratings_bw=df[(df['dine_rating']>4) & (df['dine_rating']<4.5)]\n",
    "ratings_bw['loc'].value_counts()"
   ]
  },
  {
   "cell_type": "code",
   "execution_count": null,
   "id": "6078a4aa",
   "metadata": {},
   "outputs": [],
   "source": []
  }
 ],
 "metadata": {
  "kernelspec": {
   "display_name": "Python 3 (ipykernel)",
   "language": "python",
   "name": "python3"
  },
  "language_info": {
   "codemirror_mode": {
    "name": "ipython",
    "version": 3
   },
   "file_extension": ".py",
   "mimetype": "text/x-python",
   "name": "python",
   "nbconvert_exporter": "python",
   "pygments_lexer": "ipython3",
   "version": "3.9.7"
  }
 },
 "nbformat": 4,
 "nbformat_minor": 5
}
